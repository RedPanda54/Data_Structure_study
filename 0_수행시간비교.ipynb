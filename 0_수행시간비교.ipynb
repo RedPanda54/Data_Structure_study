{
  "nbformat": 4,
  "nbformat_minor": 0,
  "metadata": {
    "colab": {
      "provenance": [],
      "authorship_tag": "ABX9TyMW9MIjfk0rGdIw5P4Gdjtv",
      "include_colab_link": true
    },
    "kernelspec": {
      "name": "python3",
      "display_name": "Python 3"
    },
    "language_info": {
      "name": "python"
    }
  },
  "cells": [
    {
      "cell_type": "markdown",
      "metadata": {
        "id": "view-in-github",
        "colab_type": "text"
      },
      "source": [
        "<a href=\"https://colab.research.google.com/github/RedPanda54/Data_Structure_study/blob/main/0_%EC%88%98%ED%96%89%EC%8B%9C%EA%B0%84%EB%B9%84%EA%B5%90.ipynb\" target=\"_parent\"><img src=\"https://colab.research.google.com/assets/colab-badge.svg\" alt=\"Open In Colab\"/></a>"
      ]
    },
    {
      "cell_type": "markdown",
      "source": [
        "**수행시간비교**"
      ],
      "metadata": {
        "id": "rETyT18NsdcZ"
      }
    },
    {
      "cell_type": "code",
      "execution_count": 2,
      "metadata": {
        "colab": {
          "base_uri": "https://localhost:8080/"
        },
        "collapsed": true,
        "id": "AY-b65bFsQHU",
        "outputId": "de3f63be-1403-4704-f75e-91779f3d747f"
      },
      "outputs": [
        {
          "output_type": "stream",
          "name": "stdout",
          "text": [
            "100\n",
            "result of compute_e_ver1 =  2.7182818284590455\n",
            "result of compute_e_ver2 =  2.7182818284590455\n",
            "running time of compute_e_ver1 =  0.0014833610000000164\n",
            "running time of compute_e_ver2 =  8.499999999989072e-05\n"
          ]
        }
      ],
      "source": [
        "import time\n",
        "\n",
        "\n",
        "# code for O(n^2) version\n",
        "def compute_e_ver1(n):\n",
        "    for i in range(1, n+1):\n",
        "        result = 1\n",
        "        for j in range(1,i):\n",
        "            result *= j\n",
        "            X[i] = float(1/result)\n",
        "\n",
        "# code for O(n) version\n",
        "def compute_e_ver2(n):\n",
        "    Y[0] = 1\n",
        "    result = 1\n",
        "    for i in range(1,n):\n",
        "        result *= i\n",
        "        Y[i] = float(1/result)\n",
        "\n",
        "# 입력값 n\n",
        "n = int(input())\n",
        "\n",
        "# index (n+1)과 n개의 리스트를 생성하고 이후에 함수를 호출해 덮어씌움\n",
        "X = [0] * (n+1)\n",
        "Y = [0] * n\n",
        "\n",
        "# compute_e_ver1 호출\n",
        "before1 = time.process_time()\n",
        "compute_e_ver1(n)\n",
        "after1 = time.process_time()\n",
        "\n",
        "# compute_e_ver1의 오일러 수\n",
        "Euler1 = 1\n",
        "for i in range(1,n+1):\n",
        "    Euler1 += X[i]\n",
        "\n",
        "# compute_e_ver2 호출\n",
        "before2 = time.process_time()\n",
        "compute_e_ver2(n)\n",
        "after2 = time.process_time()\n",
        "\n",
        "# compute_e_ver2의 오일러 수\n",
        "Euler2 = 0\n",
        "for i in range(0,n):\n",
        "    Euler2 += Y[i]\n",
        "\n",
        "# 값이 올바르게 나오는지 확인\n",
        "print('result of compute_e_ver1 = ', Euler1)\n",
        "print('result of compute_e_ver2 = ', Euler2)\n",
        "\n",
        "# 두 함수의 수행시간 출력\n",
        "print('running time of compute_e_ver1 = ', after1-before1)\n",
        "print('running time of compute_e_ver2 = ', after2-before2)\n"
      ]
    },
    {
      "cell_type": "markdown",
      "source": [
        "**대표 답안**"
      ],
      "metadata": {
        "id": "JsMSUcbqs1XP"
      }
    },
    {
      "cell_type": "code",
      "source": [
        "import time, random\n",
        "\n",
        "\n",
        "# code for O(n^2)-time version\n",
        "def compute_e_ver1(n):\n",
        "    result = 1\n",
        "    for i in range(n):\n",
        "        d = 1\n",
        "        for j in range(0, i+1):\n",
        "            d *= j + 1\n",
        "        result += 1/d\n",
        "        # time check\n",
        "        after = time.process_time()\n",
        "        if (after - before1) > 60:\n",
        "            print('over time')\n",
        "            break\n",
        "    return result\n",
        "\n",
        "\n",
        "# code for O(n)-time version\n",
        "def compute_e_ver2(n):\n",
        "    result = 1\n",
        "    d = 1\n",
        "    for i in range(n):\n",
        "        d *= i + 1\n",
        "        result += 1/d\n",
        "        after = time.process_time()\n",
        "        if (after - before2) > 60:\n",
        "            print('over time')\n",
        "            break\n",
        "    return result\n",
        "\n",
        "# n 입력받음\n",
        "n = int(input(\"수 입력: \"))\n",
        "\n",
        "# compute_e_ver1 호출\n",
        "before1 = time.process_time()\n",
        "print(f'answer: {compute_e_ver1(n)}')\n",
        "after1 = time.process_time()\n",
        "print(f'time : {after1 - before1}')\n",
        "\n",
        "# compute_e_ver2 호출\n",
        "before2 = time.process_time()\n",
        "print(f'answer: {compute_e_ver2(n)}')\n",
        "after2 = time.process_time()\n",
        "print(f'time : {after2 - before2}')\n",
        "# 두 함수의 수행시간 출력"
      ],
      "metadata": {
        "colab": {
          "base_uri": "https://localhost:8080/"
        },
        "id": "phraSxrUs01z",
        "outputId": "52af0e63-318a-44b9-ca37-a0eac3b8c5ab"
      },
      "execution_count": 3,
      "outputs": [
        {
          "output_type": "stream",
          "name": "stdout",
          "text": [
            "수 입력: 100\n",
            "answer: 2.7182818284590455\n",
            "time : 0.0015466910000001555\n",
            "answer: 2.7182818284590455\n",
            "time : 0.00025332000000011234\n"
          ]
        }
      ]
    },
    {
      "cell_type": "markdown",
      "source": [
        "명확하게 시간 차이가 난다는 것을 볼수 있고, n이 커짐에 따라 그 차이는 늘어날 것이다."
      ],
      "metadata": {
        "id": "G-sL_t2gtGVA"
      }
    }
  ]
}